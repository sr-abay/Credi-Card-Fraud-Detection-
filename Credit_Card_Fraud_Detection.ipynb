{
  "nbformat": 4,
  "nbformat_minor": 0,
  "metadata": {
    "colab": {
      "name": "Credit Card Fraud Detection.ipynb",
      "provenance": []
    },
    "kernelspec": {
      "name": "python3",
      "display_name": "Python 3"
    },
    "language_info": {
      "name": "python"
    }
  },
  "cells": [
    {
      "cell_type": "markdown",
      "metadata": {
        "id": "W5WW-PhLINvF"
      },
      "source": [
        " Importing Dependencies\n"
      ]
    },
    {
      "cell_type": "code",
      "metadata": {
        "id": "2GNEV85TBXiB"
      },
      "source": [
        "import numpy as np\n",
        "import pandas as pd\n",
        "from sklearn.model_selection import train_test_split\n",
        "from sklearn.linear_model import LogisticRegression\n",
        "from sklearn.metrics import accuracy_score\n"
      ],
      "execution_count": 8,
      "outputs": []
    },
    {
      "cell_type": "markdown",
      "metadata": {
        "id": "dXeBSbJGPdVd"
      },
      "source": [
        "#Loading the dataset to a Pandas dataframe"
      ]
    },
    {
      "cell_type": "code",
      "metadata": {
        "colab": {
          "base_uri": "https://localhost:8080/"
        },
        "id": "KmvL9ClAPw7W",
        "outputId": "6a3cfbdd-6d0c-475a-b0c4-f0d8aba7e236"
      },
      "source": [
        "data = pd.read_csv('creditcard.csv', error_bad_lines=False)"
      ],
      "execution_count": 10,
      "outputs": [
        {
          "output_type": "stream",
          "text": [
            "b'Skipping line 1987: expected 31 fields, saw 38\\nSkipping line 5954: expected 31 fields, saw 41\\nSkipping line 9936: expected 31 fields, saw 46\\nSkipping line 11917: expected 31 fields, saw 40\\n'\n",
            "/usr/local/lib/python3.7/dist-packages/IPython/core/interactiveshell.py:2718: DtypeWarning: Columns (5) have mixed types.Specify dtype option on import or set low_memory=False.\n",
            "  interactivity=interactivity, compiler=compiler, result=result)\n"
          ],
          "name": "stderr"
        }
      ]
    },
    {
      "cell_type": "code",
      "metadata": {
        "colab": {
          "base_uri": "https://localhost:8080/",
          "height": 223
        },
        "id": "aIr87j2HQgIb",
        "outputId": "2bfcf085-c14c-4e81-c41d-d7538f2b986f"
      },
      "source": [
        "data.head()"
      ],
      "execution_count": 11,
      "outputs": [
        {
          "output_type": "execute_result",
          "data": {
            "text/html": [
              "<div>\n",
              "<style scoped>\n",
              "    .dataframe tbody tr th:only-of-type {\n",
              "        vertical-align: middle;\n",
              "    }\n",
              "\n",
              "    .dataframe tbody tr th {\n",
              "        vertical-align: top;\n",
              "    }\n",
              "\n",
              "    .dataframe thead th {\n",
              "        text-align: right;\n",
              "    }\n",
              "</style>\n",
              "<table border=\"1\" class=\"dataframe\">\n",
              "  <thead>\n",
              "    <tr style=\"text-align: right;\">\n",
              "      <th></th>\n",
              "      <th>Time</th>\n",
              "      <th>V1</th>\n",
              "      <th>V2</th>\n",
              "      <th>V3</th>\n",
              "      <th>V4</th>\n",
              "      <th>V5</th>\n",
              "      <th>V6</th>\n",
              "      <th>V7</th>\n",
              "      <th>V8</th>\n",
              "      <th>V9</th>\n",
              "      <th>V10</th>\n",
              "      <th>V11</th>\n",
              "      <th>V12</th>\n",
              "      <th>V13</th>\n",
              "      <th>V14</th>\n",
              "      <th>V15</th>\n",
              "      <th>V16</th>\n",
              "      <th>V17</th>\n",
              "      <th>V18</th>\n",
              "      <th>V19</th>\n",
              "      <th>V20</th>\n",
              "      <th>V21</th>\n",
              "      <th>V22</th>\n",
              "      <th>V23</th>\n",
              "      <th>V24</th>\n",
              "      <th>V25</th>\n",
              "      <th>V26</th>\n",
              "      <th>V27</th>\n",
              "      <th>V28</th>\n",
              "      <th>Amount</th>\n",
              "      <th>Class</th>\n",
              "    </tr>\n",
              "  </thead>\n",
              "  <tbody>\n",
              "    <tr>\n",
              "      <th>0</th>\n",
              "      <td>0</td>\n",
              "      <td>-1.359807</td>\n",
              "      <td>-0.072781</td>\n",
              "      <td>2.536347</td>\n",
              "      <td>1.378155</td>\n",
              "      <td>-0.338320769942518</td>\n",
              "      <td>0.462388</td>\n",
              "      <td>0.239599</td>\n",
              "      <td>0.098698</td>\n",
              "      <td>0.363787</td>\n",
              "      <td>0.090794</td>\n",
              "      <td>-0.551600</td>\n",
              "      <td>-0.617801</td>\n",
              "      <td>-0.991390</td>\n",
              "      <td>-0.311169</td>\n",
              "      <td>1.468177</td>\n",
              "      <td>-0.470401</td>\n",
              "      <td>0.207971</td>\n",
              "      <td>0.025791</td>\n",
              "      <td>0.403993</td>\n",
              "      <td>0.251412</td>\n",
              "      <td>-0.018307</td>\n",
              "      <td>0.277838</td>\n",
              "      <td>-0.110474</td>\n",
              "      <td>0.066928</td>\n",
              "      <td>0.128539</td>\n",
              "      <td>-0.189115</td>\n",
              "      <td>0.133558</td>\n",
              "      <td>-0.021053</td>\n",
              "      <td>149.62</td>\n",
              "      <td>0.0</td>\n",
              "    </tr>\n",
              "    <tr>\n",
              "      <th>1</th>\n",
              "      <td>0</td>\n",
              "      <td>1.191857</td>\n",
              "      <td>0.266151</td>\n",
              "      <td>0.166480</td>\n",
              "      <td>0.448154</td>\n",
              "      <td>0.0600176492822243</td>\n",
              "      <td>-0.082361</td>\n",
              "      <td>-0.078803</td>\n",
              "      <td>0.085102</td>\n",
              "      <td>-0.255425</td>\n",
              "      <td>-0.166974</td>\n",
              "      <td>1.612727</td>\n",
              "      <td>1.065235</td>\n",
              "      <td>0.489095</td>\n",
              "      <td>-0.143772</td>\n",
              "      <td>0.635558</td>\n",
              "      <td>0.463917</td>\n",
              "      <td>-0.114805</td>\n",
              "      <td>-0.183361</td>\n",
              "      <td>-0.145783</td>\n",
              "      <td>-0.069083</td>\n",
              "      <td>-0.225775</td>\n",
              "      <td>-0.638672</td>\n",
              "      <td>0.101288</td>\n",
              "      <td>-0.339846</td>\n",
              "      <td>0.167170</td>\n",
              "      <td>0.125895</td>\n",
              "      <td>-0.008983</td>\n",
              "      <td>0.014724</td>\n",
              "      <td>2.69</td>\n",
              "      <td>0.0</td>\n",
              "    </tr>\n",
              "    <tr>\n",
              "      <th>2</th>\n",
              "      <td>1</td>\n",
              "      <td>-1.358354</td>\n",
              "      <td>-1.340163</td>\n",
              "      <td>1.773209</td>\n",
              "      <td>0.379780</td>\n",
              "      <td>-0.503198133318193</td>\n",
              "      <td>1.800499</td>\n",
              "      <td>0.791461</td>\n",
              "      <td>0.247676</td>\n",
              "      <td>-1.514654</td>\n",
              "      <td>0.207643</td>\n",
              "      <td>0.624501</td>\n",
              "      <td>0.066084</td>\n",
              "      <td>0.717293</td>\n",
              "      <td>-0.165946</td>\n",
              "      <td>2.345865</td>\n",
              "      <td>-2.890083</td>\n",
              "      <td>1.109969</td>\n",
              "      <td>-0.121359</td>\n",
              "      <td>-2.261857</td>\n",
              "      <td>0.524980</td>\n",
              "      <td>0.247998</td>\n",
              "      <td>0.771679</td>\n",
              "      <td>0.909412</td>\n",
              "      <td>-0.689281</td>\n",
              "      <td>-0.327642</td>\n",
              "      <td>-0.139097</td>\n",
              "      <td>-0.055353</td>\n",
              "      <td>-0.059752</td>\n",
              "      <td>378.66</td>\n",
              "      <td>0.0</td>\n",
              "    </tr>\n",
              "    <tr>\n",
              "      <th>3</th>\n",
              "      <td>1</td>\n",
              "      <td>-0.966272</td>\n",
              "      <td>-0.185226</td>\n",
              "      <td>1.792993</td>\n",
              "      <td>-0.863291</td>\n",
              "      <td>-0.0103088796030823</td>\n",
              "      <td>1.247203</td>\n",
              "      <td>0.237609</td>\n",
              "      <td>0.377436</td>\n",
              "      <td>-1.387024</td>\n",
              "      <td>-0.054952</td>\n",
              "      <td>-0.226487</td>\n",
              "      <td>0.178228</td>\n",
              "      <td>0.507757</td>\n",
              "      <td>-0.287924</td>\n",
              "      <td>-0.631418</td>\n",
              "      <td>-1.059647</td>\n",
              "      <td>-0.684093</td>\n",
              "      <td>1.965775</td>\n",
              "      <td>-1.232622</td>\n",
              "      <td>-0.208038</td>\n",
              "      <td>-0.108300</td>\n",
              "      <td>0.005274</td>\n",
              "      <td>-0.190321</td>\n",
              "      <td>-1.175575</td>\n",
              "      <td>0.647376</td>\n",
              "      <td>-0.221929</td>\n",
              "      <td>0.062723</td>\n",
              "      <td>0.061458</td>\n",
              "      <td>123.50</td>\n",
              "      <td>0.0</td>\n",
              "    </tr>\n",
              "    <tr>\n",
              "      <th>4</th>\n",
              "      <td>2</td>\n",
              "      <td>-1.158233</td>\n",
              "      <td>0.877737</td>\n",
              "      <td>1.548718</td>\n",
              "      <td>0.403034</td>\n",
              "      <td>-0.407193377311653</td>\n",
              "      <td>0.095921</td>\n",
              "      <td>0.592941</td>\n",
              "      <td>-0.270533</td>\n",
              "      <td>0.817739</td>\n",
              "      <td>0.753074</td>\n",
              "      <td>-0.822843</td>\n",
              "      <td>0.538196</td>\n",
              "      <td>1.345852</td>\n",
              "      <td>-1.119670</td>\n",
              "      <td>0.175121</td>\n",
              "      <td>-0.451449</td>\n",
              "      <td>-0.237033</td>\n",
              "      <td>-0.038195</td>\n",
              "      <td>0.803487</td>\n",
              "      <td>0.408542</td>\n",
              "      <td>-0.009431</td>\n",
              "      <td>0.798278</td>\n",
              "      <td>-0.137458</td>\n",
              "      <td>0.141267</td>\n",
              "      <td>-0.206010</td>\n",
              "      <td>0.502292</td>\n",
              "      <td>0.219422</td>\n",
              "      <td>0.215153</td>\n",
              "      <td>69.99</td>\n",
              "      <td>0.0</td>\n",
              "    </tr>\n",
              "  </tbody>\n",
              "</table>\n",
              "</div>"
            ],
            "text/plain": [
              "   Time        V1        V2        V3  ...       V27       V28  Amount  Class\n",
              "0     0 -1.359807 -0.072781  2.536347  ...  0.133558 -0.021053  149.62    0.0\n",
              "1     0  1.191857  0.266151  0.166480  ... -0.008983  0.014724    2.69    0.0\n",
              "2     1 -1.358354 -1.340163  1.773209  ... -0.055353 -0.059752  378.66    0.0\n",
              "3     1 -0.966272 -0.185226  1.792993  ...  0.062723  0.061458  123.50    0.0\n",
              "4     2 -1.158233  0.877737  1.548718  ...  0.219422  0.215153   69.99    0.0\n",
              "\n",
              "[5 rows x 31 columns]"
            ]
          },
          "metadata": {
            "tags": []
          },
          "execution_count": 11
        }
      ]
    },
    {
      "cell_type": "code",
      "metadata": {
        "colab": {
          "base_uri": "https://localhost:8080/"
        },
        "id": "_yne6z4mR1FP",
        "outputId": "05d22180-e22d-406c-d921-94d7d286a272"
      },
      "source": [
        "data.info() #checking on the info of the dataset "
      ],
      "execution_count": 13,
      "outputs": [
        {
          "output_type": "stream",
          "text": [
            "<class 'pandas.core.frame.DataFrame'>\n",
            "RangeIndex: 37692 entries, 0 to 37691\n",
            "Data columns (total 31 columns):\n",
            " #   Column  Non-Null Count  Dtype  \n",
            "---  ------  --------------  -----  \n",
            " 0   Time    37692 non-null  int64  \n",
            " 1   V1      37692 non-null  float64\n",
            " 2   V2      37692 non-null  float64\n",
            " 3   V3      37692 non-null  float64\n",
            " 4   V4      37692 non-null  float64\n",
            " 5   V5      37692 non-null  object \n",
            " 6   V6      37692 non-null  float64\n",
            " 7   V7      37692 non-null  float64\n",
            " 8   V8      37692 non-null  float64\n",
            " 9   V9      37692 non-null  float64\n",
            " 10  V10     37692 non-null  float64\n",
            " 11  V11     37690 non-null  float64\n",
            " 12  V12     37690 non-null  float64\n",
            " 13  V13     37690 non-null  float64\n",
            " 14  V14     37690 non-null  float64\n",
            " 15  V15     37690 non-null  float64\n",
            " 16  V16     37690 non-null  float64\n",
            " 17  V17     37690 non-null  float64\n",
            " 18  V18     37690 non-null  float64\n",
            " 19  V19     37689 non-null  float64\n",
            " 20  V20     37689 non-null  float64\n",
            " 21  V21     37689 non-null  float64\n",
            " 22  V22     37688 non-null  float64\n",
            " 23  V23     37688 non-null  float64\n",
            " 24  V24     37688 non-null  float64\n",
            " 25  V25     37688 non-null  float64\n",
            " 26  V26     37688 non-null  float64\n",
            " 27  V27     37688 non-null  float64\n",
            " 28  V28     37687 non-null  float64\n",
            " 29  Amount  37687 non-null  float64\n",
            " 30  Class   37686 non-null  float64\n",
            "dtypes: float64(29), int64(1), object(1)\n",
            "memory usage: 8.9+ MB\n"
          ],
          "name": "stdout"
        }
      ]
    },
    {
      "cell_type": "code",
      "metadata": {
        "colab": {
          "base_uri": "https://localhost:8080/"
        },
        "id": "z4n0UF9hS34-",
        "outputId": "1ffe4c98-9775-4eb6-a93d-30a857b9518e"
      },
      "source": [
        "#checking the number of missing values \n",
        "data.isnull().sum()"
      ],
      "execution_count": 14,
      "outputs": [
        {
          "output_type": "execute_result",
          "data": {
            "text/plain": [
              "Time      0\n",
              "V1        0\n",
              "V2        0\n",
              "V3        0\n",
              "V4        0\n",
              "V5        0\n",
              "V6        0\n",
              "V7        0\n",
              "V8        0\n",
              "V9        0\n",
              "V10       0\n",
              "V11       2\n",
              "V12       2\n",
              "V13       2\n",
              "V14       2\n",
              "V15       2\n",
              "V16       2\n",
              "V17       2\n",
              "V18       2\n",
              "V19       3\n",
              "V20       3\n",
              "V21       3\n",
              "V22       4\n",
              "V23       4\n",
              "V24       4\n",
              "V25       4\n",
              "V26       4\n",
              "V27       4\n",
              "V28       5\n",
              "Amount    5\n",
              "Class     6\n",
              "dtype: int64"
            ]
          },
          "metadata": {
            "tags": []
          },
          "execution_count": 14
        }
      ]
    },
    {
      "cell_type": "markdown",
      "metadata": {
        "id": "grye4tQmT3rf"
      },
      "source": [
        "#Imputing all the missing values in data and filling the missing values\n",
        "##There are many missing values in the columns V11-V28 , Amount and Class\n",
        "##Handling the missing values to tackle the errors that will occur while processing and to avoid the drop in accuracy og the regression model\n"
      ]
    },
    {
      "cell_type": "code",
      "metadata": {
        "colab": {
          "base_uri": "https://localhost:8080/"
        },
        "id": "vvnUp-yRTII4",
        "outputId": "539dc3c7-0cce-48b4-f830-3eb842c29e8f"
      },
      "source": [
        "#The columns containing missing values are handled seperate and the missing values are filled with their mean values\n",
        "data[\"V11\"] = data[\"V11\"].replace(np.NaN, data[\"V11\"].mean())\n",
        "data[\"V12\"] = data[\"V12\"].replace(np.NaN, data[\"V12\"].mean())\n",
        "data[\"V13\"] = data[\"V13\"].replace(np.NaN, data[\"V13\"].mean())\n",
        "data[\"V14\"] = data[\"V14\"].replace(np.NaN, data[\"V14\"].mean())\n",
        "data[\"V15\"] = data[\"V15\"].replace(np.NaN, data[\"V15\"].mean())\n",
        "data[\"V16\"] = data[\"V16\"].replace(np.NaN, data[\"V16\"].mean())\n",
        "data[\"V17\"] = data[\"V17\"].replace(np.NaN, data[\"V17\"].mean())\n",
        "data[\"V18\"] = data[\"V18\"].replace(np.NaN, data[\"V18\"].mean())\n",
        "data[\"V19\"] = data[\"V19\"].replace(np.NaN, data[\"V19\"].mean())\n",
        "data[\"V20\"] = data[\"V20\"].replace(np.NaN, data[\"V20\"].mean())\n",
        "data[\"V21\"] = data[\"V21\"].replace(np.NaN, data[\"V21\"].mean())\n",
        "data[\"V22\"] = data[\"V22\"].replace(np.NaN, data[\"V22\"].mean())\n",
        "data[\"V23\"] = data[\"V23\"].replace(np.NaN, data[\"V23\"].mean())\n",
        "data[\"V24\"] = data[\"V24\"].replace(np.NaN, data[\"V24\"].mean())\n",
        "data[\"V25\"] = data[\"V25\"].replace(np.NaN, data[\"V25\"].mean())\n",
        "data[\"V26\"] = data[\"V26\"].replace(np.NaN, data[\"V26\"].mean())\n",
        "data[\"V27\"] = data[\"V27\"].replace(np.NaN, data[\"V27\"].mean())\n",
        "data[\"V28\"] = data[\"V28\"].replace(np.NaN, data[\"V28\"].mean())\n",
        "data[\"Amount\"] = data[\"Amount\"].replace(np.NaN, data[\"Amount\"].mean())\n",
        "data[\"Class\"] = data[\"Class\"].replace(np.NaN, data[\"Class\"].mean())\n",
        "\n",
        "data.isnull().sum()"
      ],
      "execution_count": 18,
      "outputs": [
        {
          "output_type": "execute_result",
          "data": {
            "text/plain": [
              "Time      0\n",
              "V1        0\n",
              "V2        0\n",
              "V3        0\n",
              "V4        0\n",
              "V5        0\n",
              "V6        0\n",
              "V7        0\n",
              "V8        0\n",
              "V9        0\n",
              "V10       0\n",
              "V11       0\n",
              "V12       0\n",
              "V13       0\n",
              "V14       0\n",
              "V15       0\n",
              "V16       0\n",
              "V17       0\n",
              "V18       0\n",
              "V19       0\n",
              "V20       0\n",
              "V21       0\n",
              "V22       0\n",
              "V23       0\n",
              "V24       0\n",
              "V25       0\n",
              "V26       0\n",
              "V27       0\n",
              "V28       0\n",
              "Amount    0\n",
              "Class     0\n",
              "dtype: int64"
            ]
          },
          "metadata": {
            "tags": []
          },
          "execution_count": 18
        }
      ]
    },
    {
      "cell_type": "code",
      "metadata": {
        "colab": {
          "base_uri": "https://localhost:8080/"
        },
        "id": "PXRppfkkWLRy",
        "outputId": "9d74eb37-2a31-4919-86d6-4a4ddb1d0cd1"
      },
      "source": [
        "# distribution of legit transaction and fraudulent transaction\n",
        "data['Class'].value_counts()"
      ],
      "execution_count": 20,
      "outputs": [
        {
          "output_type": "execute_result",
          "data": {
            "text/plain": [
              "0.00000    37582\n",
              "1.00000      104\n",
              "0.00276        6\n",
              "Name: Class, dtype: int64"
            ]
          },
          "metadata": {
            "tags": []
          },
          "execution_count": 20
        }
      ]
    },
    {
      "cell_type": "markdown",
      "metadata": {
        "id": "vi9qz467YCpK"
      },
      "source": [
        "This dataset is highly imbalanced as\n",
        "\n",
        "0 ---> Normal Transaction\n",
        "\n",
        "1 ---> Fradulent Transaction\n",
        "\n"
      ]
    },
    {
      "cell_type": "code",
      "metadata": {
        "colab": {
          "base_uri": "https://localhost:8080/"
        },
        "id": "CuoTS8DIXp5w",
        "outputId": "647cb0cd-331d-499b-f75f-da9b5dc3b0e2"
      },
      "source": [
        "#seperating the data for analysis\n",
        "legit = data[data.Class == 0]\n",
        "fraud = data[data.Class == 1]\n",
        "print(legit.shape)\n",
        "print(fraud.shape)"
      ],
      "execution_count": 22,
      "outputs": [
        {
          "output_type": "stream",
          "text": [
            "(37582, 31)\n",
            "(104, 31)\n"
          ],
          "name": "stdout"
        }
      ]
    },
    {
      "cell_type": "code",
      "metadata": {
        "colab": {
          "base_uri": "https://localhost:8080/"
        },
        "id": "W3gL8sEBY7-k",
        "outputId": "cce30da2-98d3-45da-9f9c-e89e724302f9"
      },
      "source": [
        "#statistical measures of the data\n",
        "legit.Amount.describe()"
      ],
      "execution_count": 23,
      "outputs": [
        {
          "output_type": "execute_result",
          "data": {
            "text/plain": [
              "count    37582.000000\n",
              "mean        97.744101\n",
              "std        285.974664\n",
              "min          0.000000\n",
              "25%          7.530000\n",
              "50%         26.435000\n",
              "75%         87.522500\n",
              "max      19656.530000\n",
              "Name: Amount, dtype: float64"
            ]
          },
          "metadata": {
            "tags": []
          },
          "execution_count": 23
        }
      ]
    },
    {
      "cell_type": "code",
      "metadata": {
        "colab": {
          "base_uri": "https://localhost:8080/"
        },
        "id": "ohabkbKzZV6X",
        "outputId": "eb3483e6-85ba-4963-db73-a95315b56097"
      },
      "source": [
        "fraud.Amount.describe()"
      ],
      "execution_count": 24,
      "outputs": [
        {
          "output_type": "execute_result",
          "data": {
            "text/plain": [
              "count     104.000000\n",
              "mean       92.275000\n",
              "std       229.244591\n",
              "min         0.000000\n",
              "25%         1.000000\n",
              "50%         1.000000\n",
              "75%        99.990000\n",
              "max      1809.680000\n",
              "Name: Amount, dtype: float64"
            ]
          },
          "metadata": {
            "tags": []
          },
          "execution_count": 24
        }
      ]
    },
    {
      "cell_type": "code",
      "metadata": {
        "colab": {
          "base_uri": "https://localhost:8080/",
          "height": 192
        },
        "id": "_FTs_OcQZacZ",
        "outputId": "8953cb44-54d7-488e-b81e-23951559011a"
      },
      "source": [
        "#comparing legit and fraud transactions\n",
        "data.groupby('Class').mean()"
      ],
      "execution_count": 25,
      "outputs": [
        {
          "output_type": "execute_result",
          "data": {
            "text/html": [
              "<div>\n",
              "<style scoped>\n",
              "    .dataframe tbody tr th:only-of-type {\n",
              "        vertical-align: middle;\n",
              "    }\n",
              "\n",
              "    .dataframe tbody tr th {\n",
              "        vertical-align: top;\n",
              "    }\n",
              "\n",
              "    .dataframe thead th {\n",
              "        text-align: right;\n",
              "    }\n",
              "</style>\n",
              "<table border=\"1\" class=\"dataframe\">\n",
              "  <thead>\n",
              "    <tr style=\"text-align: right;\">\n",
              "      <th></th>\n",
              "      <th>Time</th>\n",
              "      <th>V1</th>\n",
              "      <th>V2</th>\n",
              "      <th>V3</th>\n",
              "      <th>V4</th>\n",
              "      <th>V6</th>\n",
              "      <th>V7</th>\n",
              "      <th>V8</th>\n",
              "      <th>V9</th>\n",
              "      <th>V10</th>\n",
              "      <th>V11</th>\n",
              "      <th>V12</th>\n",
              "      <th>V13</th>\n",
              "      <th>V14</th>\n",
              "      <th>V15</th>\n",
              "      <th>V16</th>\n",
              "      <th>V17</th>\n",
              "      <th>V18</th>\n",
              "      <th>V19</th>\n",
              "      <th>V20</th>\n",
              "      <th>V21</th>\n",
              "      <th>V22</th>\n",
              "      <th>V23</th>\n",
              "      <th>V24</th>\n",
              "      <th>V25</th>\n",
              "      <th>V26</th>\n",
              "      <th>V27</th>\n",
              "      <th>V28</th>\n",
              "      <th>Amount</th>\n",
              "    </tr>\n",
              "    <tr>\n",
              "      <th>Class</th>\n",
              "      <th></th>\n",
              "      <th></th>\n",
              "      <th></th>\n",
              "      <th></th>\n",
              "      <th></th>\n",
              "      <th></th>\n",
              "      <th></th>\n",
              "      <th></th>\n",
              "      <th></th>\n",
              "      <th></th>\n",
              "      <th></th>\n",
              "      <th></th>\n",
              "      <th></th>\n",
              "      <th></th>\n",
              "      <th></th>\n",
              "      <th></th>\n",
              "      <th></th>\n",
              "      <th></th>\n",
              "      <th></th>\n",
              "      <th></th>\n",
              "      <th></th>\n",
              "      <th></th>\n",
              "      <th></th>\n",
              "      <th></th>\n",
              "      <th></th>\n",
              "      <th></th>\n",
              "      <th></th>\n",
              "      <th></th>\n",
              "      <th></th>\n",
              "    </tr>\n",
              "  </thead>\n",
              "  <tbody>\n",
              "    <tr>\n",
              "      <th>0.00000</th>\n",
              "      <td>34843.602895</td>\n",
              "      <td>-0.262352</td>\n",
              "      <td>-0.019398</td>\n",
              "      <td>0.730827</td>\n",
              "      <td>0.160799</td>\n",
              "      <td>0.120775</td>\n",
              "      <td>-0.085914</td>\n",
              "      <td>0.043595</td>\n",
              "      <td>0.050752</td>\n",
              "      <td>-0.033183</td>\n",
              "      <td>0.29559</td>\n",
              "      <td>-0.176479</td>\n",
              "      <td>0.109436</td>\n",
              "      <td>1.548528e-01</td>\n",
              "      <td>0.132430</td>\n",
              "      <td>-0.003990</td>\n",
              "      <td>0.108128</td>\n",
              "      <td>-0.069987</td>\n",
              "      <td>-0.025346</td>\n",
              "      <td>0.044043</td>\n",
              "      <td>-0.035935</td>\n",
              "      <td>-0.113547</td>\n",
              "      <td>-0.035346</td>\n",
              "      <td>0.008998</td>\n",
              "      <td>0.124325</td>\n",
              "      <td>0.041190</td>\n",
              "      <td>-0.004871</td>\n",
              "      <td>0.003992</td>\n",
              "      <td>97.744101</td>\n",
              "    </tr>\n",
              "    <tr>\n",
              "      <th>0.00276</th>\n",
              "      <td>33431.000000</td>\n",
              "      <td>0.078820</td>\n",
              "      <td>0.355636</td>\n",
              "      <td>0.454133</td>\n",
              "      <td>-0.137669</td>\n",
              "      <td>-0.258158</td>\n",
              "      <td>0.121311</td>\n",
              "      <td>0.183618</td>\n",
              "      <td>5.258454</td>\n",
              "      <td>0.051754</td>\n",
              "      <td>0.51624</td>\n",
              "      <td>-0.341723</td>\n",
              "      <td>0.453977</td>\n",
              "      <td>2.732106e+13</td>\n",
              "      <td>0.392505</td>\n",
              "      <td>-0.119373</td>\n",
              "      <td>0.346303</td>\n",
              "      <td>0.008142</td>\n",
              "      <td>-0.060925</td>\n",
              "      <td>6.521887</td>\n",
              "      <td>-0.012565</td>\n",
              "      <td>-0.132604</td>\n",
              "      <td>0.141696</td>\n",
              "      <td>-0.052118</td>\n",
              "      <td>0.046709</td>\n",
              "      <td>3.404707</td>\n",
              "      <td>0.017067</td>\n",
              "      <td>6.956126</td>\n",
              "      <td>81.438679</td>\n",
              "    </tr>\n",
              "    <tr>\n",
              "      <th>1.00000</th>\n",
              "      <td>30936.865385</td>\n",
              "      <td>-4.515735</td>\n",
              "      <td>3.923154</td>\n",
              "      <td>-7.037042</td>\n",
              "      <td>5.088362</td>\n",
              "      <td>-2.017378</td>\n",
              "      <td>-5.756899</td>\n",
              "      <td>2.278771</td>\n",
              "      <td>-3.258625</td>\n",
              "      <td>-7.033000</td>\n",
              "      <td>5.01565</td>\n",
              "      <td>-8.324436</td>\n",
              "      <td>0.117051</td>\n",
              "      <td>-8.763447e+00</td>\n",
              "      <td>0.262914</td>\n",
              "      <td>-5.562687</td>\n",
              "      <td>-9.137462</td>\n",
              "      <td>-3.258336</td>\n",
              "      <td>0.923258</td>\n",
              "      <td>0.226021</td>\n",
              "      <td>1.030936</td>\n",
              "      <td>-0.054991</td>\n",
              "      <td>-0.065025</td>\n",
              "      <td>-0.025491</td>\n",
              "      <td>0.108563</td>\n",
              "      <td>0.110237</td>\n",
              "      <td>0.313995</td>\n",
              "      <td>0.095544</td>\n",
              "      <td>92.275000</td>\n",
              "    </tr>\n",
              "  </tbody>\n",
              "</table>\n",
              "</div>"
            ],
            "text/plain": [
              "                 Time        V1        V2  ...       V27       V28     Amount\n",
              "Class                                      ...                               \n",
              "0.00000  34843.602895 -0.262352 -0.019398  ... -0.004871  0.003992  97.744101\n",
              "0.00276  33431.000000  0.078820  0.355636  ...  0.017067  6.956126  81.438679\n",
              "1.00000  30936.865385 -4.515735  3.923154  ...  0.313995  0.095544  92.275000\n",
              "\n",
              "[3 rows x 29 columns]"
            ]
          },
          "metadata": {
            "tags": []
          },
          "execution_count": 25
        }
      ]
    },
    {
      "cell_type": "markdown",
      "metadata": {
        "id": "YJAtijqwaQO8"
      },
      "source": [
        "#Under-sampling of data containing similar distribution of normal transactions and fradulent transactions"
      ]
    },
    {
      "cell_type": "code",
      "metadata": {
        "id": "a2xlJI5KaP5x"
      },
      "source": [
        "legit_sample = legit.sample(n = 104)"
      ],
      "execution_count": 27,
      "outputs": []
    },
    {
      "cell_type": "markdown",
      "metadata": {
        "id": "tAjhhiIRa8qF"
      },
      "source": [
        "#Concatinating two data frames"
      ]
    },
    {
      "cell_type": "code",
      "metadata": {
        "id": "dgLGruCzZ_DA"
      },
      "source": [
        "data1 = pd.concat([legit_sample , fraud], axis = 0)"
      ],
      "execution_count": 28,
      "outputs": []
    },
    {
      "cell_type": "code",
      "metadata": {
        "colab": {
          "base_uri": "https://localhost:8080/",
          "height": 223
        },
        "id": "MeRrLZuwbSla",
        "outputId": "45a17944-0ce8-4708-bb71-ab9af77a7f0c"
      },
      "source": [
        "data1.head()"
      ],
      "execution_count": 29,
      "outputs": [
        {
          "output_type": "execute_result",
          "data": {
            "text/html": [
              "<div>\n",
              "<style scoped>\n",
              "    .dataframe tbody tr th:only-of-type {\n",
              "        vertical-align: middle;\n",
              "    }\n",
              "\n",
              "    .dataframe tbody tr th {\n",
              "        vertical-align: top;\n",
              "    }\n",
              "\n",
              "    .dataframe thead th {\n",
              "        text-align: right;\n",
              "    }\n",
              "</style>\n",
              "<table border=\"1\" class=\"dataframe\">\n",
              "  <thead>\n",
              "    <tr style=\"text-align: right;\">\n",
              "      <th></th>\n",
              "      <th>Time</th>\n",
              "      <th>V1</th>\n",
              "      <th>V2</th>\n",
              "      <th>V3</th>\n",
              "      <th>V4</th>\n",
              "      <th>V5</th>\n",
              "      <th>V6</th>\n",
              "      <th>V7</th>\n",
              "      <th>V8</th>\n",
              "      <th>V9</th>\n",
              "      <th>V10</th>\n",
              "      <th>V11</th>\n",
              "      <th>V12</th>\n",
              "      <th>V13</th>\n",
              "      <th>V14</th>\n",
              "      <th>V15</th>\n",
              "      <th>V16</th>\n",
              "      <th>V17</th>\n",
              "      <th>V18</th>\n",
              "      <th>V19</th>\n",
              "      <th>V20</th>\n",
              "      <th>V21</th>\n",
              "      <th>V22</th>\n",
              "      <th>V23</th>\n",
              "      <th>V24</th>\n",
              "      <th>V25</th>\n",
              "      <th>V26</th>\n",
              "      <th>V27</th>\n",
              "      <th>V28</th>\n",
              "      <th>Amount</th>\n",
              "      <th>Class</th>\n",
              "    </tr>\n",
              "  </thead>\n",
              "  <tbody>\n",
              "    <tr>\n",
              "      <th>36974</th>\n",
              "      <td>51283</td>\n",
              "      <td>0.064480</td>\n",
              "      <td>-0.423454</td>\n",
              "      <td>0.569050</td>\n",
              "      <td>-2.451307</td>\n",
              "      <td>-0.602752</td>\n",
              "      <td>-1.326261</td>\n",
              "      <td>0.286191</td>\n",
              "      <td>-0.326134</td>\n",
              "      <td>-2.238398</td>\n",
              "      <td>1.635335</td>\n",
              "      <td>0.874235</td>\n",
              "      <td>-1.417857</td>\n",
              "      <td>-1.675574</td>\n",
              "      <td>0.180303</td>\n",
              "      <td>-1.047796</td>\n",
              "      <td>-0.481020</td>\n",
              "      <td>0.144263</td>\n",
              "      <td>0.469400</td>\n",
              "      <td>-0.598269</td>\n",
              "      <td>-0.304483</td>\n",
              "      <td>-0.030225</td>\n",
              "      <td>0.435387</td>\n",
              "      <td>0.076278</td>\n",
              "      <td>0.464138</td>\n",
              "      <td>-0.886110</td>\n",
              "      <td>-0.474658</td>\n",
              "      <td>0.271369</td>\n",
              "      <td>0.049178</td>\n",
              "      <td>22.50</td>\n",
              "      <td>0.0</td>\n",
              "    </tr>\n",
              "    <tr>\n",
              "      <th>4428</th>\n",
              "      <td>2016</td>\n",
              "      <td>1.036071</td>\n",
              "      <td>0.010580</td>\n",
              "      <td>1.316595</td>\n",
              "      <td>1.308586</td>\n",
              "      <td>-0.855817748184293</td>\n",
              "      <td>-0.124198</td>\n",
              "      <td>-0.476801</td>\n",
              "      <td>0.091096</td>\n",
              "      <td>0.311728</td>\n",
              "      <td>-0.083766</td>\n",
              "      <td>0.212684</td>\n",
              "      <td>0.839400</td>\n",
              "      <td>0.967347</td>\n",
              "      <td>-0.150712</td>\n",
              "      <td>1.542952</td>\n",
              "      <td>0.252205</td>\n",
              "      <td>-0.359364</td>\n",
              "      <td>-0.323826</td>\n",
              "      <td>-1.202788</td>\n",
              "      <td>-0.026504</td>\n",
              "      <td>0.185853</td>\n",
              "      <td>0.561606</td>\n",
              "      <td>0.019344</td>\n",
              "      <td>0.413109</td>\n",
              "      <td>0.237439</td>\n",
              "      <td>-0.358429</td>\n",
              "      <td>0.077517</td>\n",
              "      <td>0.049019</td>\n",
              "      <td>45.00</td>\n",
              "      <td>0.0</td>\n",
              "    </tr>\n",
              "    <tr>\n",
              "      <th>17382</th>\n",
              "      <td>14010</td>\n",
              "      <td>1.265987</td>\n",
              "      <td>0.356182</td>\n",
              "      <td>0.168989</td>\n",
              "      <td>0.624742</td>\n",
              "      <td>0.0423036037878231</td>\n",
              "      <td>-0.322368</td>\n",
              "      <td>-0.166205</td>\n",
              "      <td>-0.058246</td>\n",
              "      <td>1.197617</td>\n",
              "      <td>-0.465045</td>\n",
              "      <td>1.860394</td>\n",
              "      <td>-2.135653</td>\n",
              "      <td>1.289860</td>\n",
              "      <td>1.423992</td>\n",
              "      <td>-0.226654</td>\n",
              "      <td>0.874946</td>\n",
              "      <td>0.261080</td>\n",
              "      <td>0.768927</td>\n",
              "      <td>0.151607</td>\n",
              "      <td>-0.131450</td>\n",
              "      <td>-0.439161</td>\n",
              "      <td>-1.080071</td>\n",
              "      <td>0.051665</td>\n",
              "      <td>-0.475042</td>\n",
              "      <td>0.234293</td>\n",
              "      <td>0.083157</td>\n",
              "      <td>-0.058373</td>\n",
              "      <td>0.005802</td>\n",
              "      <td>0.99</td>\n",
              "      <td>0.0</td>\n",
              "    </tr>\n",
              "    <tr>\n",
              "      <th>25143</th>\n",
              "      <td>45708</td>\n",
              "      <td>-0.515571</td>\n",
              "      <td>0.728918</td>\n",
              "      <td>1.323575</td>\n",
              "      <td>0.886406</td>\n",
              "      <td>0.508846488974718</td>\n",
              "      <td>-0.094034</td>\n",
              "      <td>0.703377</td>\n",
              "      <td>0.154585</td>\n",
              "      <td>-1.038948</td>\n",
              "      <td>-0.078617</td>\n",
              "      <td>1.449492</td>\n",
              "      <td>0.534768</td>\n",
              "      <td>-0.495924</td>\n",
              "      <td>0.751344</td>\n",
              "      <td>0.573537</td>\n",
              "      <td>-0.274811</td>\n",
              "      <td>-0.136999</td>\n",
              "      <td>-0.313473</td>\n",
              "      <td>0.571908</td>\n",
              "      <td>0.087689</td>\n",
              "      <td>-0.225198</td>\n",
              "      <td>-0.857431</td>\n",
              "      <td>0.316085</td>\n",
              "      <td>-0.069068</td>\n",
              "      <td>-0.789526</td>\n",
              "      <td>-0.833081</td>\n",
              "      <td>0.158937</td>\n",
              "      <td>0.165940</td>\n",
              "      <td>46.00</td>\n",
              "      <td>0.0</td>\n",
              "    </tr>\n",
              "    <tr>\n",
              "      <th>26983</th>\n",
              "      <td>46595</td>\n",
              "      <td>-0.763677</td>\n",
              "      <td>0.930581</td>\n",
              "      <td>1.352257</td>\n",
              "      <td>-1.265749</td>\n",
              "      <td>-0.0449198344112093</td>\n",
              "      <td>-1.074703</td>\n",
              "      <td>1.110521</td>\n",
              "      <td>-0.348954</td>\n",
              "      <td>-0.350028</td>\n",
              "      <td>-0.749699</td>\n",
              "      <td>-0.279936</td>\n",
              "      <td>0.483850</td>\n",
              "      <td>0.952891</td>\n",
              "      <td>-0.150606</td>\n",
              "      <td>0.212798</td>\n",
              "      <td>0.364811</td>\n",
              "      <td>-0.650603</td>\n",
              "      <td>-0.723178</td>\n",
              "      <td>-0.515704</td>\n",
              "      <td>-0.127280</td>\n",
              "      <td>-0.104101</td>\n",
              "      <td>-0.378776</td>\n",
              "      <td>-0.085471</td>\n",
              "      <td>0.459783</td>\n",
              "      <td>-0.345497</td>\n",
              "      <td>0.616149</td>\n",
              "      <td>-0.223021</td>\n",
              "      <td>0.082566</td>\n",
              "      <td>49.95</td>\n",
              "      <td>0.0</td>\n",
              "    </tr>\n",
              "  </tbody>\n",
              "</table>\n",
              "</div>"
            ],
            "text/plain": [
              "        Time        V1        V2        V3  ...       V27       V28  Amount  Class\n",
              "36974  51283  0.064480 -0.423454  0.569050  ...  0.271369  0.049178   22.50    0.0\n",
              "4428    2016  1.036071  0.010580  1.316595  ...  0.077517  0.049019   45.00    0.0\n",
              "17382  14010  1.265987  0.356182  0.168989  ... -0.058373  0.005802    0.99    0.0\n",
              "25143  45708 -0.515571  0.728918  1.323575  ...  0.158937  0.165940   46.00    0.0\n",
              "26983  46595 -0.763677  0.930581  1.352257  ... -0.223021  0.082566   49.95    0.0\n",
              "\n",
              "[5 rows x 31 columns]"
            ]
          },
          "metadata": {
            "tags": []
          },
          "execution_count": 29
        }
      ]
    },
    {
      "cell_type": "code",
      "metadata": {
        "colab": {
          "base_uri": "https://localhost:8080/"
        },
        "id": "41Di8it9bbaZ",
        "outputId": "e62db683-665c-4238-901c-b75e36770b34"
      },
      "source": [
        "data1['Class'].value_counts()"
      ],
      "execution_count": 32,
      "outputs": [
        {
          "output_type": "execute_result",
          "data": {
            "text/plain": [
              "1.0    104\n",
              "0.0    104\n",
              "Name: Class, dtype: int64"
            ]
          },
          "metadata": {
            "tags": []
          },
          "execution_count": 32
        }
      ]
    },
    {
      "cell_type": "code",
      "metadata": {
        "colab": {
          "base_uri": "https://localhost:8080/",
          "height": 162
        },
        "id": "Pg-DgmDubplv",
        "outputId": "12a114cf-2405-4368-e30c-9109ddc30fe2"
      },
      "source": [
        "data1.groupby('Class').mean() #checking whether the sample is good or bad"
      ],
      "execution_count": 33,
      "outputs": [
        {
          "output_type": "execute_result",
          "data": {
            "text/html": [
              "<div>\n",
              "<style scoped>\n",
              "    .dataframe tbody tr th:only-of-type {\n",
              "        vertical-align: middle;\n",
              "    }\n",
              "\n",
              "    .dataframe tbody tr th {\n",
              "        vertical-align: top;\n",
              "    }\n",
              "\n",
              "    .dataframe thead th {\n",
              "        text-align: right;\n",
              "    }\n",
              "</style>\n",
              "<table border=\"1\" class=\"dataframe\">\n",
              "  <thead>\n",
              "    <tr style=\"text-align: right;\">\n",
              "      <th></th>\n",
              "      <th>Time</th>\n",
              "      <th>V1</th>\n",
              "      <th>V2</th>\n",
              "      <th>V3</th>\n",
              "      <th>V4</th>\n",
              "      <th>V6</th>\n",
              "      <th>V7</th>\n",
              "      <th>V8</th>\n",
              "      <th>V9</th>\n",
              "      <th>V10</th>\n",
              "      <th>V11</th>\n",
              "      <th>V12</th>\n",
              "      <th>V13</th>\n",
              "      <th>V14</th>\n",
              "      <th>V15</th>\n",
              "      <th>V16</th>\n",
              "      <th>V17</th>\n",
              "      <th>V18</th>\n",
              "      <th>V19</th>\n",
              "      <th>V20</th>\n",
              "      <th>V21</th>\n",
              "      <th>V22</th>\n",
              "      <th>V23</th>\n",
              "      <th>V24</th>\n",
              "      <th>V25</th>\n",
              "      <th>V26</th>\n",
              "      <th>V27</th>\n",
              "      <th>V28</th>\n",
              "      <th>Amount</th>\n",
              "    </tr>\n",
              "    <tr>\n",
              "      <th>Class</th>\n",
              "      <th></th>\n",
              "      <th></th>\n",
              "      <th></th>\n",
              "      <th></th>\n",
              "      <th></th>\n",
              "      <th></th>\n",
              "      <th></th>\n",
              "      <th></th>\n",
              "      <th></th>\n",
              "      <th></th>\n",
              "      <th></th>\n",
              "      <th></th>\n",
              "      <th></th>\n",
              "      <th></th>\n",
              "      <th></th>\n",
              "      <th></th>\n",
              "      <th></th>\n",
              "      <th></th>\n",
              "      <th></th>\n",
              "      <th></th>\n",
              "      <th></th>\n",
              "      <th></th>\n",
              "      <th></th>\n",
              "      <th></th>\n",
              "      <th></th>\n",
              "      <th></th>\n",
              "      <th></th>\n",
              "      <th></th>\n",
              "      <th></th>\n",
              "    </tr>\n",
              "  </thead>\n",
              "  <tbody>\n",
              "    <tr>\n",
              "      <th>0.0</th>\n",
              "      <td>35562.500000</td>\n",
              "      <td>-0.193455</td>\n",
              "      <td>0.147624</td>\n",
              "      <td>0.718508</td>\n",
              "      <td>0.166229</td>\n",
              "      <td>0.384503</td>\n",
              "      <td>-0.001866</td>\n",
              "      <td>0.066819</td>\n",
              "      <td>-0.015284</td>\n",
              "      <td>-0.055826</td>\n",
              "      <td>0.428974</td>\n",
              "      <td>-0.158754</td>\n",
              "      <td>0.155627</td>\n",
              "      <td>0.141951</td>\n",
              "      <td>0.023587</td>\n",
              "      <td>-0.058524</td>\n",
              "      <td>0.157675</td>\n",
              "      <td>0.019202</td>\n",
              "      <td>0.080978</td>\n",
              "      <td>0.049003</td>\n",
              "      <td>-0.092333</td>\n",
              "      <td>-0.145203</td>\n",
              "      <td>0.021980</td>\n",
              "      <td>0.026787</td>\n",
              "      <td>0.114592</td>\n",
              "      <td>0.026855</td>\n",
              "      <td>0.023416</td>\n",
              "      <td>-0.029103</td>\n",
              "      <td>88.030288</td>\n",
              "    </tr>\n",
              "    <tr>\n",
              "      <th>1.0</th>\n",
              "      <td>30936.865385</td>\n",
              "      <td>-4.515735</td>\n",
              "      <td>3.923154</td>\n",
              "      <td>-7.037042</td>\n",
              "      <td>5.088362</td>\n",
              "      <td>-2.017378</td>\n",
              "      <td>-5.756899</td>\n",
              "      <td>2.278771</td>\n",
              "      <td>-3.258625</td>\n",
              "      <td>-7.033000</td>\n",
              "      <td>5.015650</td>\n",
              "      <td>-8.324436</td>\n",
              "      <td>0.117051</td>\n",
              "      <td>-8.763447</td>\n",
              "      <td>0.262914</td>\n",
              "      <td>-5.562687</td>\n",
              "      <td>-9.137462</td>\n",
              "      <td>-3.258336</td>\n",
              "      <td>0.923258</td>\n",
              "      <td>0.226021</td>\n",
              "      <td>1.030936</td>\n",
              "      <td>-0.054991</td>\n",
              "      <td>-0.065025</td>\n",
              "      <td>-0.025491</td>\n",
              "      <td>0.108563</td>\n",
              "      <td>0.110237</td>\n",
              "      <td>0.313995</td>\n",
              "      <td>0.095544</td>\n",
              "      <td>92.275000</td>\n",
              "    </tr>\n",
              "  </tbody>\n",
              "</table>\n",
              "</div>"
            ],
            "text/plain": [
              "               Time        V1        V2  ...       V27       V28     Amount\n",
              "Class                                    ...                               \n",
              "0.0    35562.500000 -0.193455  0.147624  ...  0.023416 -0.029103  88.030288\n",
              "1.0    30936.865385 -4.515735  3.923154  ...  0.313995  0.095544  92.275000\n",
              "\n",
              "[2 rows x 29 columns]"
            ]
          },
          "metadata": {
            "tags": []
          },
          "execution_count": 33
        }
      ]
    },
    {
      "cell_type": "markdown",
      "metadata": {
        "id": "kZ5ddYSGcAiy"
      },
      "source": [
        "#Splitting the data into features and target"
      ]
    },
    {
      "cell_type": "code",
      "metadata": {
        "id": "6IjiB4kTb2QK"
      },
      "source": [
        "x = data1.drop('Class',axis = 1)\n",
        "y = data1['Class']"
      ],
      "execution_count": 34,
      "outputs": []
    },
    {
      "cell_type": "code",
      "metadata": {
        "colab": {
          "base_uri": "https://localhost:8080/"
        },
        "id": "P1-pNNoUcSdX",
        "outputId": "364bb3c6-2c5c-4c00-c8c4-e465bf029afb"
      },
      "source": [
        "print(x)"
      ],
      "execution_count": 35,
      "outputs": [
        {
          "output_type": "stream",
          "text": [
            "        Time         V1        V2  ...       V27       V28 Amount\n",
            "36974  51283   0.064480 -0.423454  ...  0.271369  0.049178  22.50\n",
            "4428    2016   1.036071  0.010580  ...  0.077517  0.049019  45.00\n",
            "17382  14010   1.265987  0.356182  ... -0.058373  0.005802   0.99\n",
            "25143  45708  -0.515571  0.728918  ...  0.158937  0.165940  46.00\n",
            "26983  46595  -0.763677  0.930581  ... -0.223021  0.082566  49.95\n",
            "...      ...        ...       ...  ...       ...       ...    ...\n",
            "35660  50706  -8.461845  6.866198  ...  1.170027  0.229301  99.99\n",
            "35873  50808  -9.169790  7.092197  ...  1.159690  0.232758  99.99\n",
            "36568  51112  -9.848776  7.365546  ...  1.134095  0.225973  99.99\n",
            "36650  51135 -10.527304  7.639745  ...  1.108897  0.219021  99.99\n",
            "36699  51155 -11.205461  7.914633  ...  1.084023  0.211933  99.99\n",
            "\n",
            "[208 rows x 30 columns]\n"
          ],
          "name": "stdout"
        }
      ]
    },
    {
      "cell_type": "code",
      "metadata": {
        "colab": {
          "base_uri": "https://localhost:8080/"
        },
        "id": "n1gjSdeZcUbg",
        "outputId": "dd036d90-1a9d-49b6-cfa6-53f513a498e8"
      },
      "source": [
        "print(y)"
      ],
      "execution_count": 36,
      "outputs": [
        {
          "output_type": "stream",
          "text": [
            "36974    0.0\n",
            "4428     0.0\n",
            "17382    0.0\n",
            "25143    0.0\n",
            "26983    0.0\n",
            "        ... \n",
            "35660    1.0\n",
            "35873    1.0\n",
            "36568    1.0\n",
            "36650    1.0\n",
            "36699    1.0\n",
            "Name: Class, Length: 208, dtype: float64\n"
          ],
          "name": "stdout"
        }
      ]
    },
    {
      "cell_type": "markdown",
      "metadata": {
        "id": "89mITlGzcZSA"
      },
      "source": [
        "#Splitting the data into test and train data\n"
      ]
    },
    {
      "cell_type": "code",
      "metadata": {
        "id": "PQQUz4BbcXwI"
      },
      "source": [
        "xtrain, xtest, ytrain, ytest = train_test_split(x , y ,test_size =0.2, stratify = y, random_state=2)"
      ],
      "execution_count": 38,
      "outputs": []
    },
    {
      "cell_type": "code",
      "metadata": {
        "colab": {
          "base_uri": "https://localhost:8080/"
        },
        "id": "7cmtKqBqdfSF",
        "outputId": "b52d800c-3ce5-479c-c4df-8d08c7346617"
      },
      "source": [
        "print(xtrain.shape , xtest.shape)"
      ],
      "execution_count": 40,
      "outputs": [
        {
          "output_type": "stream",
          "text": [
            "(166, 30) (42, 30)\n"
          ],
          "name": "stdout"
        }
      ]
    },
    {
      "cell_type": "markdown",
      "metadata": {
        "id": "uxB3Bj0dd2I-"
      },
      "source": [
        "#Logistic regression model training\n"
      ]
    },
    {
      "cell_type": "code",
      "metadata": {
        "id": "WU7XEqCDd1oG"
      },
      "source": [
        "model = LogisticRegression()"
      ],
      "execution_count": 41,
      "outputs": []
    },
    {
      "cell_type": "code",
      "metadata": {
        "colab": {
          "base_uri": "https://localhost:8080/"
        },
        "id": "PsjfuPE8dtfn",
        "outputId": "38599b2a-b1d3-41f8-915a-df1f659d3dc3"
      },
      "source": [
        "#Training model with train data \n",
        "model.fit(xtrain , ytrain)"
      ],
      "execution_count": 43,
      "outputs": [
        {
          "output_type": "stream",
          "text": [
            "/usr/local/lib/python3.7/dist-packages/sklearn/linear_model/_logistic.py:940: ConvergenceWarning: lbfgs failed to converge (status=1):\n",
            "STOP: TOTAL NO. of ITERATIONS REACHED LIMIT.\n",
            "\n",
            "Increase the number of iterations (max_iter) or scale the data as shown in:\n",
            "    https://scikit-learn.org/stable/modules/preprocessing.html\n",
            "Please also refer to the documentation for alternative solver options:\n",
            "    https://scikit-learn.org/stable/modules/linear_model.html#logistic-regression\n",
            "  extra_warning_msg=_LOGISTIC_SOLVER_CONVERGENCE_MSG)\n"
          ],
          "name": "stderr"
        },
        {
          "output_type": "execute_result",
          "data": {
            "text/plain": [
              "LogisticRegression(C=1.0, class_weight=None, dual=False, fit_intercept=True,\n",
              "                   intercept_scaling=1, l1_ratio=None, max_iter=100,\n",
              "                   multi_class='auto', n_jobs=None, penalty='l2',\n",
              "                   random_state=None, solver='lbfgs', tol=0.0001, verbose=0,\n",
              "                   warm_start=False)"
            ]
          },
          "metadata": {
            "tags": []
          },
          "execution_count": 43
        }
      ]
    },
    {
      "cell_type": "markdown",
      "metadata": {
        "id": "qa4jg-Ecee_M"
      },
      "source": [
        "Model Evaluation"
      ]
    },
    {
      "cell_type": "markdown",
      "metadata": {
        "id": "PCFIhOZHeiBl"
      },
      "source": [
        "Accuracy score"
      ]
    },
    {
      "cell_type": "code",
      "metadata": {
        "id": "3lKKyfsLeSuo"
      },
      "source": [
        "#accuracy on training data\n",
        "xtrain_predict = model.predict(xtrain)\n",
        "training_data_accuracy = accuracy_score(xtrain_predict, ytrain)"
      ],
      "execution_count": 45,
      "outputs": []
    },
    {
      "cell_type": "code",
      "metadata": {
        "colab": {
          "base_uri": "https://localhost:8080/"
        },
        "id": "Bnr3fWeNe6tc",
        "outputId": "ccb606f3-b3cd-4481-8db1-09ff55d7c03f"
      },
      "source": [
        "print(\"Accuracy on training data:\" ,  training_data_accuracy)"
      ],
      "execution_count": 47,
      "outputs": [
        {
          "output_type": "stream",
          "text": [
            "Accuracy on training data: 0.963855421686747\n"
          ],
          "name": "stdout"
        }
      ]
    },
    {
      "cell_type": "markdown",
      "metadata": {
        "id": "guv1nqurfNwu"
      },
      "source": [
        "#Accuracy is 96% for the current logistic regression model with the training data"
      ]
    },
    {
      "cell_type": "code",
      "metadata": {
        "id": "SvZZ0T5BfGzv"
      },
      "source": [
        "#Accuracy on test data\n",
        "xtest_predict = model.predict(xtest)\n",
        "test_data_accuracy = accuracy_score(xtest_predict, ytest)\n"
      ],
      "execution_count": 48,
      "outputs": []
    },
    {
      "cell_type": "code",
      "metadata": {
        "colab": {
          "base_uri": "https://localhost:8080/"
        },
        "id": "AhE9vDxvfyeZ",
        "outputId": "7a8bc4f8-7dc3-4ed7-c786-f76123f3b3a3"
      },
      "source": [
        "print(\"Accuracy on test:\" , test_data_accuracy)"
      ],
      "execution_count": 49,
      "outputs": [
        {
          "output_type": "stream",
          "text": [
            "Accuracy on test: 1.0\n"
          ],
          "name": "stdout"
        }
      ]
    },
    {
      "cell_type": "markdown",
      "metadata": {
        "id": "MqD0eZSNhEIY"
      },
      "source": [
        "#Accuracy achieved in test data exceeds that of the training data accuracy so the model is a underfit model and makes more generalised learning on test data "
      ]
    },
    {
      "cell_type": "code",
      "metadata": {
        "id": "ycvCdS45jHlK"
      },
      "source": [
        "ccd = model.predict(xtest) #predicting the outcomes of the test values."
      ],
      "execution_count": 50,
      "outputs": []
    },
    {
      "cell_type": "code",
      "metadata": {
        "colab": {
          "base_uri": "https://localhost:8080/"
        },
        "id": "8E_d6H5ejUQf",
        "outputId": "248c8149-631f-4f47-b765-244c4a668229"
      },
      "source": [
        "ccd[10] # if it displays 1 then the transaction is a fraudulent one and if it displays 0 then it is a legit transaction."
      ],
      "execution_count": 51,
      "outputs": [
        {
          "output_type": "execute_result",
          "data": {
            "text/plain": [
              "1.0"
            ]
          },
          "metadata": {
            "tags": []
          },
          "execution_count": 51
        }
      ]
    },
    {
      "cell_type": "code",
      "metadata": {
        "colab": {
          "base_uri": "https://localhost:8080/"
        },
        "id": "64GAtRSUjprw",
        "outputId": "643f108b-90e1-4b44-97a1-9a15328aa425"
      },
      "source": [
        "ccd[9]"
      ],
      "execution_count": 52,
      "outputs": [
        {
          "output_type": "execute_result",
          "data": {
            "text/plain": [
              "1.0"
            ]
          },
          "metadata": {
            "tags": []
          },
          "execution_count": 52
        }
      ]
    },
    {
      "cell_type": "code",
      "metadata": {
        "colab": {
          "base_uri": "https://localhost:8080/"
        },
        "id": "KVDXyDy5jsAl",
        "outputId": "2454da70-724d-48d0-8888-ce3565f77c2a"
      },
      "source": [
        "ccd[1]"
      ],
      "execution_count": 53,
      "outputs": [
        {
          "output_type": "execute_result",
          "data": {
            "text/plain": [
              "0.0"
            ]
          },
          "metadata": {
            "tags": []
          },
          "execution_count": 53
        }
      ]
    }
  ]
}